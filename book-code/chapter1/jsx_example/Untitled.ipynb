{
 "cells": [
  {
   "cell_type": "code",
   "execution_count": null,
   "metadata": {},
   "outputs": [
    {
     "name": "stdout",
     "output_type": "stream",
     "text": [
      "serving at port 8001\n"
     ]
    },
    {
     "name": "stderr",
     "output_type": "stream",
     "text": [
      "127.0.0.1 - - [23/Jun/2020 19:13:40] \"GET / HTTP/1.1\" 200 -\n",
      "127.0.0.1 - - [23/Jun/2020 19:13:40] code 404, message File not found\n",
      "127.0.0.1 - - [23/Jun/2020 19:13:40] \"GET /favicon.ico HTTP/1.1\" 404 -\n",
      "127.0.0.1 - - [23/Jun/2020 19:13:43] \"GET /component_without_jsx.html HTTP/1.1\" 200 -\n",
      "127.0.0.1 - - [23/Jun/2020 19:14:51] \"GET /component_with_jsx.html HTTP/1.1\" 200 -\n"
     ]
    }
   ],
   "source": [
    "import SimpleHTTPServer\n",
    "import SocketServer\n",
    "\n",
    "PORT = 8001\n",
    "\n",
    "Handler = SimpleHTTPServer.SimpleHTTPRequestHandler\n",
    "\n",
    "httpd = SocketServer.TCPServer((\"\", PORT), Handler)\n",
    "\n",
    "print \"serving at port\", PORT\n",
    "httpd.serve_forever()"
   ]
  },
  {
   "cell_type": "code",
   "execution_count": null,
   "metadata": {},
   "outputs": [],
   "source": []
  }
 ],
 "metadata": {
  "kernelspec": {
   "display_name": "Python 2",
   "language": "python",
   "name": "python2"
  },
  "language_info": {
   "codemirror_mode": {
    "name": "ipython",
    "version": 2
   },
   "file_extension": ".py",
   "mimetype": "text/x-python",
   "name": "python",
   "nbconvert_exporter": "python",
   "pygments_lexer": "ipython2",
   "version": "2.7.16"
  }
 },
 "nbformat": 4,
 "nbformat_minor": 2
}
